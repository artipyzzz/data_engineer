{
 "cells": [
  {
   "cell_type": "markdown",
   "metadata": {},
   "source": [
    "# Добро пожаловать\n",
    "\n",
    "Python — это язык программирования. Как и другие языки, он дает нам возможность передавать идеи. В случае языка программирования эти идеи — «команды», которые люди используют для общения с компьютером!\n",
    "\n",
    "Мы передаем наши команды компьютеру, записывая их в текстовый файл с помощью языка программирования. Эти файлы называются программами . Запуск программы означает указание компьютеру прочитать текстовый файл, перевести его в набор операций, которые он понимает, и выполнить эти действия."
   ]
  },
  {
   "cell_type": "code",
   "execution_count": 1,
   "metadata": {},
   "outputs": [
    {
     "name": "stdout",
     "output_type": "stream",
     "text": [
      "Hello and welcome John!\n"
     ]
    }
   ],
   "source": [
    "my_name = \"John\"\n",
    "print(\"Hello and welcome \" + my_name + \"!\")"
   ]
  },
  {
   "cell_type": "markdown",
   "metadata": {},
   "source": [
    "## Комментарий\n",
    "\n",
    "По иронии судьбы, первое, что мы собираемся сделать, это показать, как сказать компьютеру игнорировать часть программы. Текст, написанный в программе, но не запущенный компьютером, называется комментарий. Python интерпретирует все после *`#`* как комментарий.\n",
    "\n",
    "Комментарии могут:\n",
    "\n",
    "- Предоставить контекст, объясняющий, почему что-то написано именно так:\n",
    "\n",
    "```python\n",
    "# This variable will be used to count the number of times anyone tweets the word persnickety\n",
    "persnickety_count = 0\n",
    "```\n",
    "\n",
    "- Помочь другим людям, читающим код, быстрее его понять:\n",
    "\n",
    "```python\n",
    "# This code will calculate the likelihood that it will rain tomorrow\n",
    "complicated_rain_calculation_for_tomorrow()\n",
    "```\n",
    "\n",
    "- Проигнорировать строку кода и посмотреть, как программа будет работать без нее:\n",
    "\n",
    "```python\n",
    "# useful_value = old_sloppy_code()\n",
    "useful_value = new_clean_code()\n",
    "```"
   ]
  },
  {
   "cell_type": "markdown",
   "metadata": {},
   "source": [
    "## print()\n",
    "\n",
    "Теперь мы собираемся научить наш компьютер общаться. Дар речи ценен: компьютер может ответить на многие наши вопросы о том, «как», «почему» или «что» он делает. В *`Python`* *`print()`* функция используется для того, чтобы сказать компьютеру, что нужно говорить. Сообщение, которое нужно напечатать, должно быть заключено в кавычки:\n",
    "\n",
    "```python\n",
    "# from Mary Shelley's Frankenstein\n",
    "print(\"There is something at work in my soul, which I do not understand.\")\n",
    "```\n",
    "\n",
    "В приведенном выше примере мы направляем нашу программу на *`print()`* отрывок из известной книги. Печатные слова, которые появляются в результате *`print()`* функция называется выходом . Выход этого примера программы будет:\n",
    "\n",
    "```text\n",
    "There is something at work in my soul, which I do not understand.\n",
    "```"
   ]
  },
  {
   "cell_type": "markdown",
   "metadata": {},
   "source": [
    "## Strings - строки\n",
    "\n",
    "Программисты называют блоки текста *`string`*-ами. В нашем последнем упражнении мы создали *`string`* «Привет, мир!». В *`Python`* строка заключается либо в двойные кавычки ( \"Hello world\"), либо в одинарные кавычки ( 'Hello world'). Неважно, какой вид вы используете, просто будьте последовательны."
   ]
  },
  {
   "cell_type": "code",
   "execution_count": 2,
   "metadata": {},
   "outputs": [
    {
     "name": "stdout",
     "output_type": "stream",
     "text": [
      "John\n",
      "John\n"
     ]
    }
   ],
   "source": [
    "print('John')\n",
    "print(\"John\")"
   ]
  },
  {
   "cell_type": "markdown",
   "metadata": {},
   "source": [
    "## Variables - переменные\n",
    "\n",
    "Языки программирования предлагают метод хранения данных для повторного использования. Если есть приветствие, которое мы хотим представить, дата, которую нам нужно повторно использовать, или идентификатор пользователя, который нам нужно запомнить, мы можем создать переменную который может хранить значение. В Python мы назначаем переменные с помощью знака равенства *`(=)`*.\n",
    "\n",
    "```python\n",
    "message_string = \"Hello there\"\n",
    "# Prints \"Hello there\"\n",
    "print(message_string)\n",
    "```\n",
    "\n",
    "В приведенном выше примере мы сохраняем сообщение «Привет» в переменной с именем *`message_string`*. Переменные не могут иметь пробелы или символы в своих именах, кроме подчеркивания *`(_)`*. Они не могут начинаться с цифр, но могут иметь цифры после первой буквы (например, *`cool_variable_5is`* OK).\n",
    "\n",
    "Неслучайно мы называем эти сущности *`«переменными»`*. Если контекст программы меняется, мы можем обновить переменную, но выполнить тот же логический процесс над ней.\n",
    "\n",
    "```python\n",
    "# Greeting\n",
    "message_string = \"Hello there\"\n",
    "print(message_string)\n",
    "\n",
    "# Farewell\n",
    "message_string = \"Hasta la vista\"\n",
    "print(message_string)\n",
    "```\n",
    "\n",
    "Выше мы создаем переменную *`message_string`*, назначаем приветственное сообщение и печатаем приветствие. После того, как мы поприветствуем пользователя, мы хотим пожелать ему до свидания. Затем мы обновляем *`message_string`* сообщение об отъезде и печатаем его."
   ]
  },
  {
   "cell_type": "code",
   "execution_count": 3,
   "metadata": {},
   "outputs": [
    {
     "name": "stdout",
     "output_type": "stream",
     "text": [
      "Breakfast:\n",
      "An english muffin\n",
      "Lunch:\n",
      "Big salad\n",
      "Dinner:\n",
      "Tofu and Rice\n"
     ]
    }
   ],
   "source": [
    "# We've defined the variable \"meal\" here to the name of the food we ate for breakfast!\n",
    "meal = \"An english muffin\"\n",
    "\n",
    "# Printing out breakfast\n",
    "print(\"Breakfast:\")\n",
    "print(meal)\n",
    "\n",
    "# Now update meal to be lunch!\n",
    "meal = \"Big salad\"\n",
    "\n",
    "# Printing out lunch\n",
    "print(\"Lunch:\")\n",
    "print(meal)\n",
    "\n",
    "# Now update \"meal\" to be dinner\n",
    "meal = \"Tofu and Rice\"\n",
    "\n",
    "# Printing out dinner\n",
    "print(\"Dinner:\")\n",
    "print(meal)"
   ]
  },
  {
   "cell_type": "markdown",
   "metadata": {},
   "source": [
    "## Errors | Exceptions - ошибки\n",
    "\n",
    "Люди склонны совершать ошибки. Люди также обычно отвечают за создание компьютерных программ. Чтобы компенсировать это, языки программирования пытаются понять и объяснить ошибки, сделанные в их программах.\n",
    "\n",
    "Python называет эти ошибки и укажет на место, где произошла ошибка с *`^`* символом. Когда программы выдают ошибки, которые мы не ожидали встретить, мы называем эти ошибки исключениями. Программисты называют процесс обновления программы, чтобы она больше не выдавала неожиданные ошибки, отладкой.\n",
    "\n",
    "Две распространенные ошибки, с которыми мы сталкиваемся при написании на Python, — это *`SyntaxError`* и *`NameError`*.\n",
    "\n",
    "- *`SyntaxError`* означает, что в вашей программе что-то не так — неуместные знаки препинания, команда там, где ее не ожидают, или отсутствующая скобка — все это может привести к ошибке *`SyntaxError`*.\n",
    "- A *`NameError`* происходит, когда интерпретатор Python видит слово, которое он не распознает. Код, содержащий что-то похожее на переменную, но никогда не определенное, выдаст *`NameError`*."
   ]
  },
  {
   "cell_type": "code",
   "execution_count": 4,
   "metadata": {},
   "outputs": [
    {
     "ename": "SyntaxError",
     "evalue": "unterminated string literal (detected at line 2) (694900134.py, line 2)",
     "output_type": "error",
     "traceback": [
      "\u001b[0;36m  Cell \u001b[0;32mIn[4], line 2\u001b[0;36m\u001b[0m\n\u001b[0;31m    print('This message has mismatched quote marks!\")\u001b[0m\n\u001b[0m          ^\u001b[0m\n\u001b[0;31mSyntaxError\u001b[0m\u001b[0;31m:\u001b[0m unterminated string literal (detected at line 2)\n"
     ]
    }
   ],
   "source": [
    "# Пример\n",
    "print('This message has mismatched quote marks!\")\n",
    "print(Abracadabra)"
   ]
  },
  {
   "cell_type": "markdown",
   "metadata": {},
   "source": [
    "## Numbers - числа\n",
    "\n",
    "Компьютеры могут понимать гораздо больше, чем просто строки текста. У *`Python`* есть несколько числовых типов данных. Он имеет несколько способов хранения чисел. Какой из них вы используете, зависит от предполагаемой цели сохраняемого вами числа.\n",
    "\n",
    "*`Целое число`*, или *`int`*, — это целое число. Оно не имеет десятичной точки и содержит все числовые числа (1, 2, 3, …), а также их отрицательные аналоги и число 0. Если бы вы считали количество людей в комнате, количество желейных конфет в банке или количество клавиш на клавиатуре, вы, скорее всего, использовали бы *`целое число`*.\n",
    "\n",
    "*`Число с плавающей точкой`* , или *`float`*, является десятичным числом. Его можно использовать для представления дробных величин, а также точных измерений. Если бы вы измеряли длину стены своей спальни, вычисляли средний балл за тест в седьмом классе или сохраняли средний результат отбивания бейсболиста за сезон 1998 года, вы, скорее всего, использовали бы *`float`*.\n",
    "\n",
    "```python\n",
    "an_int = 2\n",
    "a_float = 2.1\n",
    "\n",
    "print(an_int + 3)\n",
    "# Output: 5\n",
    "```\n",
    "\n",
    "Выше мы определили целое число и число с плавающей точкой как переменные *`an_int`* и *`a_float`*. Мы вывели сумму переменной *`an_intс`* числом 3. Мы называем число 3 здесь литералом , то есть это на самом деле число 3, а не переменная с присвоенным ей числом 3.\n",
    "\n",
    "Числа с плавающей точкой могут вести себя неожиданным образом из-за того, как компьютеры их хранят. Для получения дополнительной информации о числах с плавающей точкой и Python ознакомьтесь с [документацией Python по ограничениям плавающей точки](https://docs.python.org/3/tutorial/floatingpoint.html) ."
   ]
  },
  {
   "cell_type": "code",
   "execution_count": 5,
   "metadata": {},
   "outputs": [],
   "source": [
    "# Define the release and runtime integer variables below:\n",
    "release_year = 1990\n",
    "\n",
    "runtime = 128\n",
    "\n",
    "# Define the rating_out_of_10 float variable below: \n",
    "rating_out_of_10 = 9.4"
   ]
  },
  {
   "cell_type": "markdown",
   "metadata": {},
   "source": [
    "## Calculations - расчета\n",
    "\n",
    "Компьютеры абсолютно преуспевают в выполнении вычислений. «Вычислить» в их названии происходит от их исторической ассоциации с предоставлением ответов на математические вопросы. Python выполняет арифметические операции сложения, вычитания, умножения и деления с *`+, -, *, и /`*.\n",
    "\n",
    "```python\n",
    "# Prints \"500\"\n",
    "print(573 - 74 + 1)\n",
    "\n",
    "# Prints \"50\"\n",
    "print(25 * 2)\n",
    "\n",
    "# Prints \"2.0\"\n",
    "print(10 / 5)\n",
    "```\n",
    "\n",
    "Обратите внимание, что при выполнении деления результат имеет *`десятичную точку`*. Это происходит потому, что *`Python`* преобразует все *`ints`* в *`floats`* перед выполнением деления. В более старых версиях Python (2.7 и более ранних) это преобразование не происходило, и целочисленное деление всегда округлялось до ближайшего целого числа.\n",
    "\n",
    "Деление может выдать свою собственную специальную ошибку: *`ZeroDivisionError`*. Python выдаст эту ошибку при попытке деления на 0."
   ]
  },
  {
   "cell_type": "code",
   "execution_count": 6,
   "metadata": {},
   "outputs": [
    {
     "name": "stdout",
     "output_type": "stream",
     "text": [
      "1700.4642857142858\n"
     ]
    }
   ],
   "source": [
    "print(25 * 68 + 13 / 28)"
   ]
  },
  {
   "cell_type": "markdown",
   "metadata": {},
   "source": [
    "## Changing Numbers - изменение чисел\n",
    "\n",
    "*`Переменные`* которым присвоены числовые значения, можно обрабатывать так же, как и сами числа. Две переменные можно складывать, делить на 2 и умножать на третью переменную, при этом *`Python`* не будет различать переменные и литералы (например, число 2 в этом примере). Выполнение арифметических действий с переменными не изменяет переменную — вы можете только обновить переменную, используя *`=`* знак.\n",
    "\n",
    "```python\n",
    "coffee_price = 1.50\n",
    "number_of_coffees = 4\n",
    "\n",
    "# Prints \"6.0\"\n",
    "print(coffee_price * number_of_coffees)\n",
    "# Prints \"1.5\"\n",
    "print(coffee_price)\n",
    "# Prints \"4\"\n",
    "print(number_of_coffees)\n",
    "\n",
    "# Updating the price \n",
    "coffee_price = 2.00\n",
    "\n",
    "# Prints \"8.0\"\n",
    "print(coffee_price * number_of_coffees)\n",
    "# Prints \"2.0\"\n",
    "print(coffee_price)\n",
    "# Prints \"4\"\n",
    "print(number_of_coffees)\n",
    "```\n",
    "\n",
    "Мы создаем две переменные и присваиваем им числовые значения. Затем мы выполняем над ними расчет. Это не обновляет переменные! Когда мы обновляем переменную *`coffee_price`* и снова выполняем расчеты, они используют обновленные значения для переменной!"
   ]
  },
  {
   "cell_type": "code",
   "execution_count": 7,
   "metadata": {},
   "outputs": [
    {
     "name": "stdout",
     "output_type": "stream",
     "text": [
      "96\n",
      "64\n"
     ]
    }
   ],
   "source": [
    "# First we create the variables\n",
    "quilt_width = 8\n",
    "quilt_length = 12\n",
    "\n",
    "# Then we print the size\n",
    "print(quilt_width * quilt_length)\n",
    "\n",
    "# Whoops! That's a little too large\n",
    "quilt_length = 8\n",
    "\n",
    "# Let's see how large it is now\n",
    "print(quilt_width * quilt_length)"
   ]
  },
  {
   "cell_type": "markdown",
   "metadata": {},
   "source": [
    "## Exponents - экспоненты\n",
    "\n",
    "*`Python`* также может выполнять возведение в степень. В письменной математике вы можете увидеть показатель степени как надстрочное число, но на современных клавиатурах набирать надстрочные числа не всегда легко. Поскольку эта операция так связана с умножением, мы используем обозначение *`**`*.\n",
    "\n",
    "```python\n",
    "# 2 to the 10th power, or 1024\n",
    "print(2 ** 10)\n",
    "\n",
    "# 8 squared, or 64\n",
    "print(8 ** 2)\n",
    "\n",
    "# 9 * 9 * 9, 9 cubed, or 729\n",
    "print(9 ** 3)\n",
    "\n",
    "# We can even perform fractional exponents\n",
    "# 4 to the half power, or 2\n",
    "print(4 ** 0.5)\n",
    "```\n",
    "\n",
    "Здесь мы вычисляем несколько простых показателей. Мы вычисляем 2 в 10-й степени, 8 во 2-й степени, 9 в 3-й степени и 4 в 0,5-й степени."
   ]
  },
  {
   "cell_type": "code",
   "execution_count": 8,
   "metadata": {},
   "outputs": [
    {
     "name": "stdout",
     "output_type": "stream",
     "text": [
      "36\n",
      "49\n",
      "64\n",
      "1296\n"
     ]
    }
   ],
   "source": [
    "print(6 ** 2)\n",
    "print(7 ** 2)\n",
    "print(8 ** 2)\n",
    "\n",
    "print(6 ** 4)"
   ]
  },
  {
   "cell_type": "markdown",
   "metadata": {},
   "source": [
    "## Modulo - модуль\n",
    "\n",
    "Python предлагает дополнение к оператору деления, называемое по модулю. *`Оператор по модулю`* обозначается *`%`* и дает остаток от деления. Если два числа делятся, то результатом операции по модулю будет 0.\n",
    "\n",
    "```python\n",
    "# Prints 4 because 29 / 5 is 5 with a remainder of 4\n",
    "print(29 % 5)\n",
    " \n",
    "# Prints 2 because 32 / 3 is 10 with a remainder of 2\n",
    "print(32 % 3)\n",
    " \n",
    "# Modulo by 2 returns 0 for even numbers and 1 for odd numbers\n",
    "# Prints 0\n",
    "print(44 % 2)\n",
    "```\n",
    "\n",
    "Здесь мы используем оператор по модулю для нахождения остатка от операций деления. Мы видим, что *`29 % 5 равно 4, 32 % 3 равно 2 и 44 % 2 равно 0`*.\n",
    "\n",
    "Давайте рассмотрим еще один пример, чтобы лучше понять, насколько полезен модуль в программировании:\n",
    "\n",
    "```python\n",
    "print(3 % 3) # Prints 0\n",
    "print(4 % 3) # Prints 1\n",
    "print(5 % 3) # Prints 2\n",
    "print(6 % 3) # Prints 0\n",
    "print(7 % 3) # Prints 1\n",
    "```\n",
    "\n",
    "В каждой из этих операций по модулю делителем является 3. Поскольку 3 / 3 равно 1 без остатка, результат первой операции по модулю равен 0. Обратите внимание, что по мере увеличения делимого на 1 остаток также увеличивается на 1, пока мы не достигнем следующего числа, которое делится на 3 без остатка — это создает шаблон, который непрерывно повторяется по мере увеличения делимого на 1!\n",
    "\n",
    "Из-за этого оператор *`modulo`* полезен в программировании, когда мы хотим выполнять действие каждый n-й раз, когда что-то происходит. Представьте, что вы владелец небольшого кафе и хотите, чтобы каждый 7-й клиент получал скидку. Если каждый клиент пронумерованы в порядке их появления, вы можете определить, какие клиенты должны получить скидку, вычислив *`transaction_number % 7`* — если результат равен *`0`*, раздайте скидку!"
   ]
  },
  {
   "cell_type": "code",
   "execution_count": 9,
   "metadata": {},
   "outputs": [
    {
     "name": "stdout",
     "output_type": "stream",
     "text": [
      "9\n",
      "0\n"
     ]
    }
   ],
   "source": [
    "first_order_remainder = 269 % 10\n",
    "print(first_order_remainder)\n",
    "\n",
    "first_order_coupon = \"no\"\n",
    "\n",
    "second_order_remainder = 270 % 10\n",
    "print(second_order_remainder)\n",
    "\n",
    "second_order_coupon = \"yes\""
   ]
  },
  {
   "cell_type": "markdown",
   "metadata": {},
   "source": [
    "## Concatenation - конкатенация\n",
    "\n",
    "Оператор +не просто складывает два числа, он может также «складывать» две строки! Процесс объединения двух строк называется конкатенация строк. Выполнение\n",
    "Конкатенация создает совершенно новую строку, состоящую из содержимого первой строки, за которым следует содержимое второй строки (без каких-либо дополнительных пробелов между ними).\n",
    "\n",
    "```python\n",
    "greeting_text = \"Hey there!\"\n",
    "question_text = \"How are you doing?\"\n",
    "full_text = greeting_text + question_text\n",
    "\n",
    "# Prints \"Hey there!How are you doing?\"\n",
    "print(full_text)\n",
    "```\n",
    "\n",
    "В этом примере кода мы создаем две переменные которые содержат строки, а затем объединяем их. Но мы заметили, что в результате между ними отсутствует пробел, давайте добавим пробел между ними, используя тот же оператор объединения!\n",
    "\n",
    "```python\n",
    "full_text = greeting_text + \" \" + question_text\n",
    "\n",
    "# Prints \"Hey there! How are you doing?\"\n",
    "print(full_text)\n",
    "```\n",
    "\n",
    "Теперь код выводит ожидаемое нами сообщение.\n",
    "\n",
    "Если вы хотите объединить строку с числом, вам сначала нужно будет сделать число строкой, используя функцию *`str()`*. Если вы пытаетесь *`print()`* числовая переменная, вы можете использовать запятые, чтобы передать ее как другой аргумент а не преобразовывать его в строку.\n",
    "\n",
    "```python\n",
    "birthday_string = \"I am \"\n",
    "age = 10\n",
    "birthday_string_2 = \" years old today!\"\n",
    "\n",
    "# Concatenating an integer with strings is possible if we turn the integer into a string first\n",
    "full_birthday_string = birthday_string + str(age) + birthday_string_2\n",
    "\n",
    "# Prints \"I am 10 years old today!\"\n",
    "print(full_birthday_string)\n",
    "\n",
    "# If we just want to print an integer \n",
    "# we can pass a variable as an argument to \n",
    "# print() regardless of whether \n",
    "# it is a string.\n",
    "\n",
    "# This also prints \"I am 10 years old today!\"\n",
    "print(birthday_string, age, birthday_string_2)\n",
    "```\n",
    "\n",
    "С использованием *`str()`* мы можем преобразовать переменные, которые не являются строками, в строки, а затем объединить их. Но нам не нужно преобразовывать число в строку, чтобы оно стало аргументом оператора печати."
   ]
  },
  {
   "cell_type": "code",
   "execution_count": 11,
   "metadata": {},
   "outputs": [
    {
     "name": "stdout",
     "output_type": "stream",
     "text": [
      "The wind, which had hitherto carried us along with amazing rapidity, sank at sunset to a light breeze; the soft air just ruffled the water and caused a pleasant motion among the trees as we approached the shore, from which it wafted the most delightful scent of flowers and hay.\n"
     ]
    }
   ],
   "source": [
    "string1 = \"The wind, \"\n",
    "string2 = \"which had hitherto carried us along with amazing rapidity, \"\n",
    "string3 = \"sank at sunset to a light breeze; \"\n",
    "string4 = \"the soft air just ruffled the water and \"\n",
    "string5 = \"caused a pleasant motion among the trees as we approached the shore, \"\n",
    "string6 = \"from which it wafted the most delightful scent of flowers and hay.\"\n",
    "\n",
    "message = string1 + string2 + string3 + string4 + string5 + string6\n",
    "print(message)"
   ]
  },
  {
   "cell_type": "markdown",
   "metadata": {},
   "source": [
    "## Plus Equal - +=\n",
    "\n",
    "*`Python`* предлагает сокращенную запись для обновления переменные. Если у вас есть число, сохраненное в переменной, и вы хотите добавить его к текущему значению переменной, вы можете использовать *`+=`* (плюс-равно) оператор.\n",
    "\n",
    "```python\n",
    "# First we have a variable with a number saved\n",
    "number_of_miles_hiked = 12\n",
    "\n",
    "# Then we need to update that variable\n",
    "# Let's say we hike another two miles today\n",
    "number_of_miles_hiked += 2\n",
    "\n",
    "# The new value is the old value\n",
    "# Plus the number after the plus-equals\n",
    "print(number_of_miles_hiked)\n",
    "# Prints 14\n",
    "```\n",
    "\n",
    "Выше мы ведем текущий подсчет количества миль, которые человек прошел в походе с течением времени. Вместо того, чтобы пересчитывать с самого начала, мы ведем общую сумму и обновляем ее, когда мы проходим дальше.\n",
    "\n",
    "Оператор «плюс-равно» также можно использовать для строковых данных для конкатенации, например так:\n",
    "\n",
    "```python\n",
    "hike_caption = \"What an amazing time to walk through nature!\"\n",
    "\n",
    "# Almost forgot the hashtags!\n",
    "hike_caption += \" #nofilter\"\n",
    "hike_caption += \" #blessed\"\n",
    "```\n",
    "\n",
    "Мы создаем подпись в социальных сетях для фотографии природы, сделанной во время похода, а затем обновляем ее, включив в нее важные теги социальных сетей, о которых мы почти забыли."
   ]
  },
  {
   "cell_type": "code",
   "execution_count": 12,
   "metadata": {},
   "outputs": [
    {
     "name": "stdout",
     "output_type": "stream",
     "text": [
      "The total price is 109.0\n"
     ]
    }
   ],
   "source": [
    "total_price = 0\n",
    "\n",
    "new_sneakers = 50.00\n",
    "\n",
    "total_price += new_sneakers\n",
    "\n",
    "nice_sweater = 39.00\n",
    "fun_books = 20.00\n",
    "# Update total_price here:\n",
    "\n",
    "total_price += nice_sweater\n",
    "total_price += fun_books\n",
    "\n",
    "print(\"The total price is\", total_price)"
   ]
  },
  {
   "cell_type": "markdown",
   "metadata": {},
   "source": [
    "## Multi-line Strings - многострочный текст\n",
    "\n",
    "Строки Python очень гибкие, но если мы попытаемся создать строку которая занимает несколько строк, мы оказываемся лицом к лицу с *`SyntaxError`*. Python предлагает решение: *`многострочные строки`*. Используя три кавычки *`(\"\"\" или ''')`* вместо одной, мы сообщаем программе, что строка не заканчивается до следующей тройной кавычки. Это метод\n",
    "полезно, если определяемая строка содержит много кавычек и мы хотим быть уверены, что не закроем ее преждевременно.\n",
    "\n",
    "```python\n",
    "leaves_of_grass = \"\"\"\n",
    "Poets to come! orators, singers, musicians to come!\n",
    "Not to-day is to justify me and answer what I am for,\n",
    "But you, a new brood, native, athletic, continental, greater than\n",
    "  before known,\n",
    "Arouse! for you must justify me.\n",
    "\"\"\"\n",
    "```\n",
    "\n",
    "В приведенном выше примере мы присваиваем переменной слова известного поэта. Несмотря на то, что цитата содержит несколько переносов строк, код работает!\n",
    "\n",
    "Если многострочная строка не назначена переменной или не используется в выражении, она рассматривается как *`комментарий`*."
   ]
  },
  {
   "cell_type": "code",
   "execution_count": 13,
   "metadata": {},
   "outputs": [
    {
     "name": "stdout",
     "output_type": "stream",
     "text": [
      "Stranger, if you passing meet me and desire to speak to me, why\n",
      "  should you not speak to me?\n",
      "And why should I not speak to you?\n"
     ]
    }
   ],
   "source": [
    "to_you = \"\"\"Stranger, if you passing meet me and desire to speak to me, why\n",
    "  should you not speak to me?\n",
    "And why should I not speak to you?\"\"\"\n",
    "\n",
    "print(to_you)"
   ]
  },
  {
   "cell_type": "markdown",
   "metadata": {},
   "source": [
    "## Ввод данных пользотелем\n",
    "\n",
    "### Как назначать переменные с помощью пользовательского ввода\n",
    "\n",
    "До сих пор мы рассматривали, как присваивать значения переменным непосредственно в файле Python. Однако часто мы хотим, чтобы пользователь программы вводил новую информацию в программу.\n",
    "\n",
    "Как это сделать? Как оказалось, еще один способ присвоить значение переменной — это ввести данные пользователем.\n",
    "\n",
    "В то время как мы выводим значение переменной с помощью print(), мы присваиваем информацию переменной с помощью input(). input() Функция требует подсказки, которую она выведет для пользователя, прежде чем он введет новую информацию. Например:"
   ]
  },
  {
   "cell_type": "code",
   "execution_count": 2,
   "metadata": {},
   "outputs": [],
   "source": [
    "likes_snakes = input(\"Do you like snakes? \")"
   ]
  },
  {
   "cell_type": "markdown",
   "metadata": {},
   "source": [
    "В приведенном выше примере произойдет следующее:\n",
    "\n",
    "1. Программа будет печатать *`\"Do you like snakes? \"`*для пользователя.\n",
    "2. Пользователь должен ввести ответ (например, *`\"Yes! I have seven pythons as pets!\"`*) и нажать *`enter`*.\n",
    "3. Переменной *`likes_snakes`* будет присвоено значение ответа пользователя.\n",
    "\n",
    "Попробуйте самостоятельно составить заявление для сбора отзывов пользователей!\n",
    "\n",
    "Его можно использовать не только *`input()`* для сбора всевозможной информации от пользователя, но и, сохранив эту информацию в виде переменной, использовать ее для моделирования взаимодействия:\n",
    "\n",
    "```text\n",
    ">>> favorite_fruit = input(\"What is your favorite fruit? \")\n",
    "What is your favorite fruit? mango\n",
    "\n",
    ">>> print(\"Oh cool! I like \" + favorite_fruit + \" too, but I think my favorite fruit is apple.\")\n",
    "Oh cool! I like mango too, but I think my favorite fruit is apple.\n",
    "```\n",
    "\n",
    "Это довольно простые реализации *`input()`*, но по мере того, как вы будете лучше знакомиться с *`Python`*, вы будете находить все больше и больше интересных сценариев, в которых вам захочется взаимодействовать с пользователями."
   ]
  }
 ],
 "metadata": {
  "kernelspec": {
   "display_name": "Python 3",
   "language": "python",
   "name": "python3"
  },
  "language_info": {
   "codemirror_mode": {
    "name": "ipython",
    "version": 3
   },
   "file_extension": ".py",
   "mimetype": "text/x-python",
   "name": "python",
   "nbconvert_exporter": "python",
   "pygments_lexer": "ipython3",
   "version": "3.12.5"
  }
 },
 "nbformat": 4,
 "nbformat_minor": 2
}
